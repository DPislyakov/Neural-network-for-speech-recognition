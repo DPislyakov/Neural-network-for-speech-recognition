{
  "nbformat": 4,
  "nbformat_minor": 0,
  "metadata": {
    "colab": {
      "name": "NNVoiceClass.ipynb",
      "provenance": []
    },
    "kernelspec": {
      "name": "python3",
      "display_name": "Python 3"
    },
    "language_info": {
      "name": "python"
    },
    "accelerator": "GPU"
  },
  "cells": [
    {
      "cell_type": "code",
      "execution_count": null,
      "metadata": {
        "id": "1pAlkFBwbWHn"
      },
      "outputs": [],
      "source": [
        "import os\n",
        "import pandas as pd\n",
        "import librosa\n",
        "import numpy as np\n",
        "import matplotlib.pyplot as plt"
      ]
    },
    {
      "cell_type": "markdown",
      "source": [
        "# Подготавливаем тренировочный набор данных"
      ],
      "metadata": {
        "id": "vpcRMt4NYLVX"
      }
    },
    {
      "cell_type": "code",
      "source": [
        "filelist = os.listdir('/content/drive/MyDrive/VoiceRecognation/train_data')\n",
        "train_df = pd.DataFrame(filelist)\n",
        "train_df = train_df.rename(columns={0:'file'})"
      ],
      "metadata": {
        "id": "UB5x382sbheR"
      },
      "execution_count": null,
      "outputs": []
    },
    {
      "cell_type": "code",
      "source": [
        "ind = train_df[train_df['file']=='.DS_Store'].index[0]\n",
        "train_df.drop(ind, inplace=True)\n",
        "train_df = train_df.sample(frac=1).reset_index(drop=True)"
      ],
      "metadata": {
        "id": "Of8hm14aZw1q"
      },
      "execution_count": null,
      "outputs": []
    },
    {
      "cell_type": "code",
      "source": [
        "speaker = []\n",
        "for i in range(0, len(train_df)):\n",
        "    speaker.append(train_df['file'][i].split('-')[0])\n",
        "train_df['speaker'] = speaker"
      ],
      "metadata": {
        "id": "2vGpSElkblis"
      },
      "execution_count": null,
      "outputs": []
    },
    {
      "cell_type": "code",
      "source": [
        "train_df"
      ],
      "metadata": {
        "colab": {
          "base_uri": "https://localhost:8080/",
          "height": 423
        },
        "id": "p5bp_cCTXnDu",
        "outputId": "dcd52c16-ba3e-4874-b0ab-849dbdfa62f2"
      },
      "execution_count": null,
      "outputs": [
        {
          "output_type": "execute_result",
          "data": {
            "text/plain": [
              "                      file speaker\n",
              "0    2300-131720-0007.flac    2300\n",
              "1      3570-5696-0000.flac    3570\n",
              "2      1578-6379-0000.flac    1578\n",
              "3     4640-19187-0025.flac    4640\n",
              "4     6829-68771-0007.flac    6829\n",
              "..                     ...     ...\n",
              "115    60-121082-0067.flac      60\n",
              "116  8098-278252-0024.flac    8098\n",
              "117   4970-29093-0003.flac    4970\n",
              "118   441-128982-0032.flac     441\n",
              "119   121-123852-0004.flac     121\n",
              "\n",
              "[120 rows x 2 columns]"
            ],
            "text/html": [
              "\n",
              "  <div id=\"df-1a2cefcd-a7f0-4b70-9230-b569e2a26f26\">\n",
              "    <div class=\"colab-df-container\">\n",
              "      <div>\n",
              "<style scoped>\n",
              "    .dataframe tbody tr th:only-of-type {\n",
              "        vertical-align: middle;\n",
              "    }\n",
              "\n",
              "    .dataframe tbody tr th {\n",
              "        vertical-align: top;\n",
              "    }\n",
              "\n",
              "    .dataframe thead th {\n",
              "        text-align: right;\n",
              "    }\n",
              "</style>\n",
              "<table border=\"1\" class=\"dataframe\">\n",
              "  <thead>\n",
              "    <tr style=\"text-align: right;\">\n",
              "      <th></th>\n",
              "      <th>file</th>\n",
              "      <th>speaker</th>\n",
              "    </tr>\n",
              "  </thead>\n",
              "  <tbody>\n",
              "    <tr>\n",
              "      <th>0</th>\n",
              "      <td>2300-131720-0007.flac</td>\n",
              "      <td>2300</td>\n",
              "    </tr>\n",
              "    <tr>\n",
              "      <th>1</th>\n",
              "      <td>3570-5696-0000.flac</td>\n",
              "      <td>3570</td>\n",
              "    </tr>\n",
              "    <tr>\n",
              "      <th>2</th>\n",
              "      <td>1578-6379-0000.flac</td>\n",
              "      <td>1578</td>\n",
              "    </tr>\n",
              "    <tr>\n",
              "      <th>3</th>\n",
              "      <td>4640-19187-0025.flac</td>\n",
              "      <td>4640</td>\n",
              "    </tr>\n",
              "    <tr>\n",
              "      <th>4</th>\n",
              "      <td>6829-68771-0007.flac</td>\n",
              "      <td>6829</td>\n",
              "    </tr>\n",
              "    <tr>\n",
              "      <th>...</th>\n",
              "      <td>...</td>\n",
              "      <td>...</td>\n",
              "    </tr>\n",
              "    <tr>\n",
              "      <th>115</th>\n",
              "      <td>60-121082-0067.flac</td>\n",
              "      <td>60</td>\n",
              "    </tr>\n",
              "    <tr>\n",
              "      <th>116</th>\n",
              "      <td>8098-278252-0024.flac</td>\n",
              "      <td>8098</td>\n",
              "    </tr>\n",
              "    <tr>\n",
              "      <th>117</th>\n",
              "      <td>4970-29093-0003.flac</td>\n",
              "      <td>4970</td>\n",
              "    </tr>\n",
              "    <tr>\n",
              "      <th>118</th>\n",
              "      <td>441-128982-0032.flac</td>\n",
              "      <td>441</td>\n",
              "    </tr>\n",
              "    <tr>\n",
              "      <th>119</th>\n",
              "      <td>121-123852-0004.flac</td>\n",
              "      <td>121</td>\n",
              "    </tr>\n",
              "  </tbody>\n",
              "</table>\n",
              "<p>120 rows × 2 columns</p>\n",
              "</div>\n",
              "      <button class=\"colab-df-convert\" onclick=\"convertToInteractive('df-1a2cefcd-a7f0-4b70-9230-b569e2a26f26')\"\n",
              "              title=\"Convert this dataframe to an interactive table.\"\n",
              "              style=\"display:none;\">\n",
              "        \n",
              "  <svg xmlns=\"http://www.w3.org/2000/svg\" height=\"24px\"viewBox=\"0 0 24 24\"\n",
              "       width=\"24px\">\n",
              "    <path d=\"M0 0h24v24H0V0z\" fill=\"none\"/>\n",
              "    <path d=\"M18.56 5.44l.94 2.06.94-2.06 2.06-.94-2.06-.94-.94-2.06-.94 2.06-2.06.94zm-11 1L8.5 8.5l.94-2.06 2.06-.94-2.06-.94L8.5 2.5l-.94 2.06-2.06.94zm10 10l.94 2.06.94-2.06 2.06-.94-2.06-.94-.94-2.06-.94 2.06-2.06.94z\"/><path d=\"M17.41 7.96l-1.37-1.37c-.4-.4-.92-.59-1.43-.59-.52 0-1.04.2-1.43.59L10.3 9.45l-7.72 7.72c-.78.78-.78 2.05 0 2.83L4 21.41c.39.39.9.59 1.41.59.51 0 1.02-.2 1.41-.59l7.78-7.78 2.81-2.81c.8-.78.8-2.07 0-2.86zM5.41 20L4 18.59l7.72-7.72 1.47 1.35L5.41 20z\"/>\n",
              "  </svg>\n",
              "      </button>\n",
              "      \n",
              "  <style>\n",
              "    .colab-df-container {\n",
              "      display:flex;\n",
              "      flex-wrap:wrap;\n",
              "      gap: 12px;\n",
              "    }\n",
              "\n",
              "    .colab-df-convert {\n",
              "      background-color: #E8F0FE;\n",
              "      border: none;\n",
              "      border-radius: 50%;\n",
              "      cursor: pointer;\n",
              "      display: none;\n",
              "      fill: #1967D2;\n",
              "      height: 32px;\n",
              "      padding: 0 0 0 0;\n",
              "      width: 32px;\n",
              "    }\n",
              "\n",
              "    .colab-df-convert:hover {\n",
              "      background-color: #E2EBFA;\n",
              "      box-shadow: 0px 1px 2px rgba(60, 64, 67, 0.3), 0px 1px 3px 1px rgba(60, 64, 67, 0.15);\n",
              "      fill: #174EA6;\n",
              "    }\n",
              "\n",
              "    [theme=dark] .colab-df-convert {\n",
              "      background-color: #3B4455;\n",
              "      fill: #D2E3FC;\n",
              "    }\n",
              "\n",
              "    [theme=dark] .colab-df-convert:hover {\n",
              "      background-color: #434B5C;\n",
              "      box-shadow: 0px 1px 3px 1px rgba(0, 0, 0, 0.15);\n",
              "      filter: drop-shadow(0px 1px 2px rgba(0, 0, 0, 0.3));\n",
              "      fill: #FFFFFF;\n",
              "    }\n",
              "  </style>\n",
              "\n",
              "      <script>\n",
              "        const buttonEl =\n",
              "          document.querySelector('#df-1a2cefcd-a7f0-4b70-9230-b569e2a26f26 button.colab-df-convert');\n",
              "        buttonEl.style.display =\n",
              "          google.colab.kernel.accessAllowed ? 'block' : 'none';\n",
              "\n",
              "        async function convertToInteractive(key) {\n",
              "          const element = document.querySelector('#df-1a2cefcd-a7f0-4b70-9230-b569e2a26f26');\n",
              "          const dataTable =\n",
              "            await google.colab.kernel.invokeFunction('convertToInteractive',\n",
              "                                                     [key], {});\n",
              "          if (!dataTable) return;\n",
              "\n",
              "          const docLinkHtml = 'Like what you see? Visit the ' +\n",
              "            '<a target=\"_blank\" href=https://colab.research.google.com/notebooks/data_table.ipynb>data table notebook</a>'\n",
              "            + ' to learn more about interactive tables.';\n",
              "          element.innerHTML = '';\n",
              "          dataTable['output_type'] = 'display_data';\n",
              "          await google.colab.output.renderOutput(dataTable, element);\n",
              "          const docLink = document.createElement('div');\n",
              "          docLink.innerHTML = docLinkHtml;\n",
              "          element.appendChild(docLink);\n",
              "        }\n",
              "      </script>\n",
              "    </div>\n",
              "  </div>\n",
              "  "
            ]
          },
          "metadata": {},
          "execution_count": 42
        }
      ]
    },
    {
      "cell_type": "markdown",
      "source": [
        "# Подготавливаем тестовый набор данных"
      ],
      "metadata": {
        "id": "C-iebbYvYQcK"
      }
    },
    {
      "cell_type": "code",
      "source": [
        "filelist = os.listdir('/content/drive/MyDrive/VoiceRecognation/test_data')\n",
        "test_df = pd.DataFrame(filelist)\n",
        "test_df = test_df.rename(columns={0:'file'})"
      ],
      "metadata": {
        "id": "SLKH8fBZYDFh"
      },
      "execution_count": null,
      "outputs": []
    },
    {
      "cell_type": "code",
      "source": [
        "speaker = []\n",
        "for i in range(0, len(test_df)):\n",
        "    speaker.append(test_df['file'][i].split('-')[0])\n",
        "test_df['speaker'] = speaker"
      ],
      "metadata": {
        "id": "GOwJ7e69YeJ_"
      },
      "execution_count": null,
      "outputs": []
    },
    {
      "cell_type": "code",
      "source": [
        "test_df"
      ],
      "metadata": {
        "colab": {
          "base_uri": "https://localhost:8080/",
          "height": 423
        },
        "id": "UTqssdnuYjJs",
        "outputId": "a2fe6980-fee4-4c62-bce4-1818449d39ee"
      },
      "execution_count": null,
      "outputs": [
        {
          "output_type": "execute_result",
          "data": {
            "text/plain": [
              "                     file speaker\n",
              "0     60-121082-0011.flac      60\n",
              "1     60-121082-0058.flac      60\n",
              "2     60-121082-0039.flac      60\n",
              "3    229-130880-0003.flac     229\n",
              "4    229-130880-0065.flac     229\n",
              "..                    ...     ...\n",
              "85     61-70970-0025.flac      61\n",
              "86     61-70968-0035.flac      61\n",
              "87  2300-131720-0027.flac    2300\n",
              "88  2300-131720-0003.flac    2300\n",
              "89  2300-131720-0002.flac    2300\n",
              "\n",
              "[90 rows x 2 columns]"
            ],
            "text/html": [
              "\n",
              "  <div id=\"df-75272f47-8ed0-4a03-9ba4-47bb8ccc2d93\">\n",
              "    <div class=\"colab-df-container\">\n",
              "      <div>\n",
              "<style scoped>\n",
              "    .dataframe tbody tr th:only-of-type {\n",
              "        vertical-align: middle;\n",
              "    }\n",
              "\n",
              "    .dataframe tbody tr th {\n",
              "        vertical-align: top;\n",
              "    }\n",
              "\n",
              "    .dataframe thead th {\n",
              "        text-align: right;\n",
              "    }\n",
              "</style>\n",
              "<table border=\"1\" class=\"dataframe\">\n",
              "  <thead>\n",
              "    <tr style=\"text-align: right;\">\n",
              "      <th></th>\n",
              "      <th>file</th>\n",
              "      <th>speaker</th>\n",
              "    </tr>\n",
              "  </thead>\n",
              "  <tbody>\n",
              "    <tr>\n",
              "      <th>0</th>\n",
              "      <td>60-121082-0011.flac</td>\n",
              "      <td>60</td>\n",
              "    </tr>\n",
              "    <tr>\n",
              "      <th>1</th>\n",
              "      <td>60-121082-0058.flac</td>\n",
              "      <td>60</td>\n",
              "    </tr>\n",
              "    <tr>\n",
              "      <th>2</th>\n",
              "      <td>60-121082-0039.flac</td>\n",
              "      <td>60</td>\n",
              "    </tr>\n",
              "    <tr>\n",
              "      <th>3</th>\n",
              "      <td>229-130880-0003.flac</td>\n",
              "      <td>229</td>\n",
              "    </tr>\n",
              "    <tr>\n",
              "      <th>4</th>\n",
              "      <td>229-130880-0065.flac</td>\n",
              "      <td>229</td>\n",
              "    </tr>\n",
              "    <tr>\n",
              "      <th>...</th>\n",
              "      <td>...</td>\n",
              "      <td>...</td>\n",
              "    </tr>\n",
              "    <tr>\n",
              "      <th>85</th>\n",
              "      <td>61-70970-0025.flac</td>\n",
              "      <td>61</td>\n",
              "    </tr>\n",
              "    <tr>\n",
              "      <th>86</th>\n",
              "      <td>61-70968-0035.flac</td>\n",
              "      <td>61</td>\n",
              "    </tr>\n",
              "    <tr>\n",
              "      <th>87</th>\n",
              "      <td>2300-131720-0027.flac</td>\n",
              "      <td>2300</td>\n",
              "    </tr>\n",
              "    <tr>\n",
              "      <th>88</th>\n",
              "      <td>2300-131720-0003.flac</td>\n",
              "      <td>2300</td>\n",
              "    </tr>\n",
              "    <tr>\n",
              "      <th>89</th>\n",
              "      <td>2300-131720-0002.flac</td>\n",
              "      <td>2300</td>\n",
              "    </tr>\n",
              "  </tbody>\n",
              "</table>\n",
              "<p>90 rows × 2 columns</p>\n",
              "</div>\n",
              "      <button class=\"colab-df-convert\" onclick=\"convertToInteractive('df-75272f47-8ed0-4a03-9ba4-47bb8ccc2d93')\"\n",
              "              title=\"Convert this dataframe to an interactive table.\"\n",
              "              style=\"display:none;\">\n",
              "        \n",
              "  <svg xmlns=\"http://www.w3.org/2000/svg\" height=\"24px\"viewBox=\"0 0 24 24\"\n",
              "       width=\"24px\">\n",
              "    <path d=\"M0 0h24v24H0V0z\" fill=\"none\"/>\n",
              "    <path d=\"M18.56 5.44l.94 2.06.94-2.06 2.06-.94-2.06-.94-.94-2.06-.94 2.06-2.06.94zm-11 1L8.5 8.5l.94-2.06 2.06-.94-2.06-.94L8.5 2.5l-.94 2.06-2.06.94zm10 10l.94 2.06.94-2.06 2.06-.94-2.06-.94-.94-2.06-.94 2.06-2.06.94z\"/><path d=\"M17.41 7.96l-1.37-1.37c-.4-.4-.92-.59-1.43-.59-.52 0-1.04.2-1.43.59L10.3 9.45l-7.72 7.72c-.78.78-.78 2.05 0 2.83L4 21.41c.39.39.9.59 1.41.59.51 0 1.02-.2 1.41-.59l7.78-7.78 2.81-2.81c.8-.78.8-2.07 0-2.86zM5.41 20L4 18.59l7.72-7.72 1.47 1.35L5.41 20z\"/>\n",
              "  </svg>\n",
              "      </button>\n",
              "      \n",
              "  <style>\n",
              "    .colab-df-container {\n",
              "      display:flex;\n",
              "      flex-wrap:wrap;\n",
              "      gap: 12px;\n",
              "    }\n",
              "\n",
              "    .colab-df-convert {\n",
              "      background-color: #E8F0FE;\n",
              "      border: none;\n",
              "      border-radius: 50%;\n",
              "      cursor: pointer;\n",
              "      display: none;\n",
              "      fill: #1967D2;\n",
              "      height: 32px;\n",
              "      padding: 0 0 0 0;\n",
              "      width: 32px;\n",
              "    }\n",
              "\n",
              "    .colab-df-convert:hover {\n",
              "      background-color: #E2EBFA;\n",
              "      box-shadow: 0px 1px 2px rgba(60, 64, 67, 0.3), 0px 1px 3px 1px rgba(60, 64, 67, 0.15);\n",
              "      fill: #174EA6;\n",
              "    }\n",
              "\n",
              "    [theme=dark] .colab-df-convert {\n",
              "      background-color: #3B4455;\n",
              "      fill: #D2E3FC;\n",
              "    }\n",
              "\n",
              "    [theme=dark] .colab-df-convert:hover {\n",
              "      background-color: #434B5C;\n",
              "      box-shadow: 0px 1px 3px 1px rgba(0, 0, 0, 0.15);\n",
              "      filter: drop-shadow(0px 1px 2px rgba(0, 0, 0, 0.3));\n",
              "      fill: #FFFFFF;\n",
              "    }\n",
              "  </style>\n",
              "\n",
              "      <script>\n",
              "        const buttonEl =\n",
              "          document.querySelector('#df-75272f47-8ed0-4a03-9ba4-47bb8ccc2d93 button.colab-df-convert');\n",
              "        buttonEl.style.display =\n",
              "          google.colab.kernel.accessAllowed ? 'block' : 'none';\n",
              "\n",
              "        async function convertToInteractive(key) {\n",
              "          const element = document.querySelector('#df-75272f47-8ed0-4a03-9ba4-47bb8ccc2d93');\n",
              "          const dataTable =\n",
              "            await google.colab.kernel.invokeFunction('convertToInteractive',\n",
              "                                                     [key], {});\n",
              "          if (!dataTable) return;\n",
              "\n",
              "          const docLinkHtml = 'Like what you see? Visit the ' +\n",
              "            '<a target=\"_blank\" href=https://colab.research.google.com/notebooks/data_table.ipynb>data table notebook</a>'\n",
              "            + ' to learn more about interactive tables.';\n",
              "          element.innerHTML = '';\n",
              "          dataTable['output_type'] = 'display_data';\n",
              "          await google.colab.output.renderOutput(dataTable, element);\n",
              "          const docLink = document.createElement('div');\n",
              "          docLink.innerHTML = docLinkHtml;\n",
              "          element.appendChild(docLink);\n",
              "        }\n",
              "      </script>\n",
              "    </div>\n",
              "  </div>\n",
              "  "
            ]
          },
          "metadata": {},
          "execution_count": 48
        }
      ]
    },
    {
      "cell_type": "markdown",
      "source": [
        "# Подготавливаем проверочный набор данных"
      ],
      "metadata": {
        "id": "GN-7GFsSa5It"
      }
    },
    {
      "cell_type": "code",
      "source": [
        "filelist = os.listdir('/content/drive/MyDrive/VoiceRecognation/valid_data')\n",
        "valid_df = pd.DataFrame(filelist)\n",
        "valid_df = valid_df.rename(columns={0:'file'})"
      ],
      "metadata": {
        "id": "6qBxD4TKYkrJ"
      },
      "execution_count": null,
      "outputs": []
    },
    {
      "cell_type": "code",
      "source": [
        "speaker = []\n",
        "for i in range(0, len(valid_df)):\n",
        "    speaker.append(valid_df['file'][i].split('-')[0])\n",
        "valid_df['speaker'] = speaker"
      ],
      "metadata": {
        "id": "PWitlcU_bJ5E"
      },
      "execution_count": null,
      "outputs": []
    },
    {
      "cell_type": "code",
      "source": [
        "valid_df"
      ],
      "metadata": {
        "colab": {
          "base_uri": "https://localhost:8080/",
          "height": 423
        },
        "id": "cn5MgpBibThj",
        "outputId": "82c1ae21-9d32-484b-9bd7-63780a91bb3f"
      },
      "execution_count": null,
      "outputs": [
        {
          "output_type": "execute_result",
          "data": {
            "text/plain": [
              "                     file speaker\n",
              "0     60-121082-0048.flac      60\n",
              "1     60-121082-0045.flac      60\n",
              "2     60-121082-0000.flac      60\n",
              "3    229-130880-0088.flac     229\n",
              "4    229-130880-0032.flac     229\n",
              "..                    ...     ...\n",
              "85     61-70970-0024.flac      61\n",
              "86   4992-23283-0004.flac    4992\n",
              "87  2300-131720-0011.flac    2300\n",
              "88  2300-131720-0013.flac    2300\n",
              "89  2300-131720-0030.flac    2300\n",
              "\n",
              "[90 rows x 2 columns]"
            ],
            "text/html": [
              "\n",
              "  <div id=\"df-ed0ddab4-6338-4e09-b871-3de8a4f5ac12\">\n",
              "    <div class=\"colab-df-container\">\n",
              "      <div>\n",
              "<style scoped>\n",
              "    .dataframe tbody tr th:only-of-type {\n",
              "        vertical-align: middle;\n",
              "    }\n",
              "\n",
              "    .dataframe tbody tr th {\n",
              "        vertical-align: top;\n",
              "    }\n",
              "\n",
              "    .dataframe thead th {\n",
              "        text-align: right;\n",
              "    }\n",
              "</style>\n",
              "<table border=\"1\" class=\"dataframe\">\n",
              "  <thead>\n",
              "    <tr style=\"text-align: right;\">\n",
              "      <th></th>\n",
              "      <th>file</th>\n",
              "      <th>speaker</th>\n",
              "    </tr>\n",
              "  </thead>\n",
              "  <tbody>\n",
              "    <tr>\n",
              "      <th>0</th>\n",
              "      <td>60-121082-0048.flac</td>\n",
              "      <td>60</td>\n",
              "    </tr>\n",
              "    <tr>\n",
              "      <th>1</th>\n",
              "      <td>60-121082-0045.flac</td>\n",
              "      <td>60</td>\n",
              "    </tr>\n",
              "    <tr>\n",
              "      <th>2</th>\n",
              "      <td>60-121082-0000.flac</td>\n",
              "      <td>60</td>\n",
              "    </tr>\n",
              "    <tr>\n",
              "      <th>3</th>\n",
              "      <td>229-130880-0088.flac</td>\n",
              "      <td>229</td>\n",
              "    </tr>\n",
              "    <tr>\n",
              "      <th>4</th>\n",
              "      <td>229-130880-0032.flac</td>\n",
              "      <td>229</td>\n",
              "    </tr>\n",
              "    <tr>\n",
              "      <th>...</th>\n",
              "      <td>...</td>\n",
              "      <td>...</td>\n",
              "    </tr>\n",
              "    <tr>\n",
              "      <th>85</th>\n",
              "      <td>61-70970-0024.flac</td>\n",
              "      <td>61</td>\n",
              "    </tr>\n",
              "    <tr>\n",
              "      <th>86</th>\n",
              "      <td>4992-23283-0004.flac</td>\n",
              "      <td>4992</td>\n",
              "    </tr>\n",
              "    <tr>\n",
              "      <th>87</th>\n",
              "      <td>2300-131720-0011.flac</td>\n",
              "      <td>2300</td>\n",
              "    </tr>\n",
              "    <tr>\n",
              "      <th>88</th>\n",
              "      <td>2300-131720-0013.flac</td>\n",
              "      <td>2300</td>\n",
              "    </tr>\n",
              "    <tr>\n",
              "      <th>89</th>\n",
              "      <td>2300-131720-0030.flac</td>\n",
              "      <td>2300</td>\n",
              "    </tr>\n",
              "  </tbody>\n",
              "</table>\n",
              "<p>90 rows × 2 columns</p>\n",
              "</div>\n",
              "      <button class=\"colab-df-convert\" onclick=\"convertToInteractive('df-ed0ddab4-6338-4e09-b871-3de8a4f5ac12')\"\n",
              "              title=\"Convert this dataframe to an interactive table.\"\n",
              "              style=\"display:none;\">\n",
              "        \n",
              "  <svg xmlns=\"http://www.w3.org/2000/svg\" height=\"24px\"viewBox=\"0 0 24 24\"\n",
              "       width=\"24px\">\n",
              "    <path d=\"M0 0h24v24H0V0z\" fill=\"none\"/>\n",
              "    <path d=\"M18.56 5.44l.94 2.06.94-2.06 2.06-.94-2.06-.94-.94-2.06-.94 2.06-2.06.94zm-11 1L8.5 8.5l.94-2.06 2.06-.94-2.06-.94L8.5 2.5l-.94 2.06-2.06.94zm10 10l.94 2.06.94-2.06 2.06-.94-2.06-.94-.94-2.06-.94 2.06-2.06.94z\"/><path d=\"M17.41 7.96l-1.37-1.37c-.4-.4-.92-.59-1.43-.59-.52 0-1.04.2-1.43.59L10.3 9.45l-7.72 7.72c-.78.78-.78 2.05 0 2.83L4 21.41c.39.39.9.59 1.41.59.51 0 1.02-.2 1.41-.59l7.78-7.78 2.81-2.81c.8-.78.8-2.07 0-2.86zM5.41 20L4 18.59l7.72-7.72 1.47 1.35L5.41 20z\"/>\n",
              "  </svg>\n",
              "      </button>\n",
              "      \n",
              "  <style>\n",
              "    .colab-df-container {\n",
              "      display:flex;\n",
              "      flex-wrap:wrap;\n",
              "      gap: 12px;\n",
              "    }\n",
              "\n",
              "    .colab-df-convert {\n",
              "      background-color: #E8F0FE;\n",
              "      border: none;\n",
              "      border-radius: 50%;\n",
              "      cursor: pointer;\n",
              "      display: none;\n",
              "      fill: #1967D2;\n",
              "      height: 32px;\n",
              "      padding: 0 0 0 0;\n",
              "      width: 32px;\n",
              "    }\n",
              "\n",
              "    .colab-df-convert:hover {\n",
              "      background-color: #E2EBFA;\n",
              "      box-shadow: 0px 1px 2px rgba(60, 64, 67, 0.3), 0px 1px 3px 1px rgba(60, 64, 67, 0.15);\n",
              "      fill: #174EA6;\n",
              "    }\n",
              "\n",
              "    [theme=dark] .colab-df-convert {\n",
              "      background-color: #3B4455;\n",
              "      fill: #D2E3FC;\n",
              "    }\n",
              "\n",
              "    [theme=dark] .colab-df-convert:hover {\n",
              "      background-color: #434B5C;\n",
              "      box-shadow: 0px 1px 3px 1px rgba(0, 0, 0, 0.15);\n",
              "      filter: drop-shadow(0px 1px 2px rgba(0, 0, 0, 0.3));\n",
              "      fill: #FFFFFF;\n",
              "    }\n",
              "  </style>\n",
              "\n",
              "      <script>\n",
              "        const buttonEl =\n",
              "          document.querySelector('#df-ed0ddab4-6338-4e09-b871-3de8a4f5ac12 button.colab-df-convert');\n",
              "        buttonEl.style.display =\n",
              "          google.colab.kernel.accessAllowed ? 'block' : 'none';\n",
              "\n",
              "        async function convertToInteractive(key) {\n",
              "          const element = document.querySelector('#df-ed0ddab4-6338-4e09-b871-3de8a4f5ac12');\n",
              "          const dataTable =\n",
              "            await google.colab.kernel.invokeFunction('convertToInteractive',\n",
              "                                                     [key], {});\n",
              "          if (!dataTable) return;\n",
              "\n",
              "          const docLinkHtml = 'Like what you see? Visit the ' +\n",
              "            '<a target=\"_blank\" href=https://colab.research.google.com/notebooks/data_table.ipynb>data table notebook</a>'\n",
              "            + ' to learn more about interactive tables.';\n",
              "          element.innerHTML = '';\n",
              "          dataTable['output_type'] = 'display_data';\n",
              "          await google.colab.output.renderOutput(dataTable, element);\n",
              "          const docLink = document.createElement('div');\n",
              "          docLink.innerHTML = docLinkHtml;\n",
              "          element.appendChild(docLink);\n",
              "        }\n",
              "      </script>\n",
              "    </div>\n",
              "  </div>\n",
              "  "
            ]
          },
          "metadata": {},
          "execution_count": 53
        }
      ]
    },
    {
      "cell_type": "markdown",
      "source": [
        "# Напишем функцию для извлечения звуковых свойств"
      ],
      "metadata": {
        "id": "b0qa_89HdXPv"
      }
    },
    {
      "cell_type": "code",
      "source": [
        "def extract_features(files):\n",
        "    \n",
        "# Sets the name to be the path to where the file is in my computer\n",
        "    file_name = os.path.join(os.path.abspath('/content/drive/MyDrive/VoiceRecognation/valid_data')+'/'+str(files.file))\n",
        "# Loads the audio file as a floating point time series and assigns the default sample rate\n",
        "    # Sample rate is set to 22050 by default\n",
        "    X, sample_rate = librosa.load(file_name, res_type='kaiser_fast')\n",
        "# Generate Mel-frequency cepstral coefficients (MFCCs) from a time series \n",
        "    mfccs = np.mean(librosa.feature.mfcc(y=X, sr=sample_rate, n_mfcc=40).T,axis=0)\n",
        "# Generates a Short-time Fourier transform (STFT) to use in the chroma_stft\n",
        "    stft = np.abs(librosa.stft(X))\n",
        "# Computes a chromagram from a waveform or power spectrogram.\n",
        "    chroma = np.mean(librosa.feature.chroma_stft(S=stft, sr=sample_rate).T,axis=0)\n",
        "# Computes a mel-scaled spectrogram.\n",
        "    mel = np.mean(librosa.feature.melspectrogram(X, sr=sample_rate).T,axis=0)\n",
        "# Computes spectral contrast\n",
        "    contrast = np.mean(librosa.feature.spectral_contrast(S=stft, sr=sample_rate).T,axis=0)\n",
        "# Computes the tonal centroid features (tonnetz)\n",
        "    tonnetz = np.mean(librosa.feature.tonnetz(y=librosa.effects.harmonic(X),\n",
        "    sr=sample_rate).T,axis=0)\n",
        "\n",
        "    return mfccs, chroma, mel, contrast, tonnetz"
      ],
      "metadata": {
        "id": "1eYGBggTbUbc"
      },
      "execution_count": null,
      "outputs": []
    },
    {
      "cell_type": "markdown",
      "source": [
        "# Подготавливаем тренировочный массив"
      ],
      "metadata": {
        "id": "Fmze9Qd4dej-"
      }
    },
    {
      "cell_type": "code",
      "source": [
        "train_features = train_df.apply(extract_features, axis=1)"
      ],
      "metadata": {
        "id": "oUhyz0vBbr8r"
      },
      "execution_count": null,
      "outputs": []
    },
    {
      "cell_type": "code",
      "source": [
        "train_features"
      ],
      "metadata": {
        "colab": {
          "base_uri": "https://localhost:8080/"
        },
        "id": "B0sGaZJsb2QV",
        "outputId": "55210c14-ba07-40be-ca05-9f5d94886984"
      },
      "execution_count": null,
      "outputs": [
        {
          "output_type": "execute_result",
          "data": {
            "text/plain": [
              "0      ([-330.14413, 124.76181, -8.906253, 52.283108,...\n",
              "1      ([-269.73224, 131.35336, -32.045166, 53.10115,...\n",
              "2      ([-344.10193, 79.02399, -23.49361, 39.224873, ...\n",
              "3      ([-345.053, 117.37512, -27.279285, 49.953636, ...\n",
              "4      ([-316.1151, 100.63274, -40.081562, 49.680157,...\n",
              "                             ...                        \n",
              "115    ([-402.0331, 124.07726, -24.079449, 41.76991, ...\n",
              "116    ([-405.74448, 126.56674, 2.3113189, 49.03396, ...\n",
              "117    ([-364.4221, 71.019455, -38.20305, 41.17577, -...\n",
              "118    ([-315.1131, 129.37952, -6.9333363, 59.152122,...\n",
              "119    ([-364.32428, 84.79869, -59.779102, 69.66905, ...\n",
              "Length: 120, dtype: object"
            ]
          },
          "metadata": {},
          "execution_count": 62
        }
      ]
    },
    {
      "cell_type": "code",
      "source": [
        "features_train = []\n",
        "for i in range(0, len(train_features)):\n",
        "    features_train.append(np.concatenate((\n",
        "        train_features[i][0],\n",
        "        train_features[i][1], \n",
        "        train_features[i][2], \n",
        "        train_features[i][3],\n",
        "        train_features[i][4]), axis=0))"
      ],
      "metadata": {
        "id": "jX2JBDvicuQv"
      },
      "execution_count": null,
      "outputs": []
    },
    {
      "cell_type": "code",
      "source": [
        "X_train = np.array(features_train)"
      ],
      "metadata": {
        "id": "POWfDjB3c9KK"
      },
      "execution_count": null,
      "outputs": []
    },
    {
      "cell_type": "code",
      "source": [
        "X_train"
      ],
      "metadata": {
        "colab": {
          "base_uri": "https://localhost:8080/"
        },
        "id": "sX5GaLNDenEF",
        "outputId": "c8565b49-1112-4baa-f669-df14cf22920e"
      },
      "execution_count": null,
      "outputs": [
        {
          "output_type": "execute_result",
          "data": {
            "text/plain": [
              "array([[-3.30144135e+02,  1.24761810e+02, -8.90625286e+00, ...,\n",
              "         1.45692074e-02, -4.84725256e-03,  1.26818161e-02],\n",
              "       [-2.69732239e+02,  1.31353363e+02, -3.20451660e+01, ...,\n",
              "         8.88461842e-02,  1.35060049e-02, -2.93650873e-02],\n",
              "       [-3.44101929e+02,  7.90239868e+01, -2.34936104e+01, ...,\n",
              "        -2.12299821e-02,  1.60057150e-02,  2.20019973e-03],\n",
              "       ...,\n",
              "       [-3.64422089e+02,  7.10194550e+01, -3.82030487e+01, ...,\n",
              "        -2.16102384e-02, -3.94899270e-03,  1.13857243e-03],\n",
              "       [-3.15113098e+02,  1.29379517e+02, -6.93333626e+00, ...,\n",
              "         4.47693248e-02,  5.49279856e-02, -2.92803145e-02],\n",
              "       [-3.64324280e+02,  8.47986908e+01, -5.97791023e+01, ...,\n",
              "        -7.21271864e-03,  1.54164568e-02, -1.29754311e-03]])"
            ]
          },
          "metadata": {},
          "execution_count": 72
        }
      ]
    },
    {
      "cell_type": "markdown",
      "source": [
        "# Подготавливаем тестовый массив"
      ],
      "metadata": {
        "id": "h3R3wo7IdmhG"
      }
    },
    {
      "cell_type": "code",
      "source": [
        "test_features = test_df.apply(extract_features, axis=1)"
      ],
      "metadata": {
        "id": "KWOFDQApdHox"
      },
      "execution_count": null,
      "outputs": []
    },
    {
      "cell_type": "code",
      "source": [
        "features_test = []\n",
        "for i in range(0, len(test_features)):\n",
        "    features_test.append(np.concatenate((\n",
        "        test_features[i][0],\n",
        "        test_features[i][1], \n",
        "        test_features[i][2], \n",
        "        test_features[i][3],\n",
        "        test_features[i][4]), axis=0))"
      ],
      "metadata": {
        "id": "IWBYh_P-dzMp"
      },
      "execution_count": null,
      "outputs": []
    },
    {
      "cell_type": "code",
      "source": [
        "X_test = np.array(features_test)"
      ],
      "metadata": {
        "id": "qLUQQUGgehg5"
      },
      "execution_count": null,
      "outputs": []
    },
    {
      "cell_type": "code",
      "source": [
        "X_test"
      ],
      "metadata": {
        "colab": {
          "base_uri": "https://localhost:8080/"
        },
        "id": "PJdkoETveky5",
        "outputId": "233b1e61-0822-4ad8-9103-69440edc485a"
      },
      "execution_count": null,
      "outputs": [
        {
          "output_type": "execute_result",
          "data": {
            "text/plain": [
              "array([[-3.58386536e+02,  1.40709290e+02, -3.34353867e+01, ...,\n",
              "         3.81916541e-02,  4.94720146e-03, -6.12018329e-05],\n",
              "       [-3.83483307e+02,  1.41357300e+02, -3.60273514e+01, ...,\n",
              "        -7.08462541e-03,  1.66984347e-02,  2.95980356e-03],\n",
              "       [-3.69524323e+02,  1.44874176e+02, -3.05833969e+01, ...,\n",
              "        -2.80430771e-02,  5.49160025e-04,  3.35591228e-03],\n",
              "       ...,\n",
              "       [-3.43233246e+02,  1.30223358e+02, -1.73488846e+01, ...,\n",
              "        -4.10676810e-03,  4.58444102e-03,  3.28371462e-03],\n",
              "       [-3.31016724e+02,  1.30951950e+02, -1.51785650e+01, ...,\n",
              "        -2.32867545e-03,  1.42770407e-03,  1.44815002e-03],\n",
              "       [-3.24851379e+02,  1.31671402e+02, -2.15993938e+01, ...,\n",
              "         2.25961897e-02,  6.09263284e-03, -6.69794072e-03]])"
            ]
          },
          "metadata": {},
          "execution_count": 71
        }
      ]
    },
    {
      "cell_type": "markdown",
      "source": [
        "# Подготавливаем проверочный массив"
      ],
      "metadata": {
        "id": "N3I698zaeqEw"
      }
    },
    {
      "cell_type": "code",
      "source": [
        "valid_features = valid_df.apply(extract_features, axis=1)"
      ],
      "metadata": {
        "id": "_UwweTWHel4V"
      },
      "execution_count": null,
      "outputs": []
    },
    {
      "cell_type": "code",
      "source": [
        "features_valid = []\n",
        "for i in range(0, len(valid_features)):\n",
        "    features_valid.append(np.concatenate((\n",
        "        valid_features[i][0],\n",
        "        valid_features[i][1], \n",
        "        valid_features[i][2], \n",
        "        valid_features[i][3],\n",
        "        valid_features[i][4]), axis=0))"
      ],
      "metadata": {
        "id": "94TRDAO5e0yx"
      },
      "execution_count": null,
      "outputs": []
    },
    {
      "cell_type": "code",
      "source": [
        "X_val = np.array(features_valid)"
      ],
      "metadata": {
        "id": "0DmFOjGLgVSC"
      },
      "execution_count": null,
      "outputs": []
    },
    {
      "cell_type": "code",
      "source": [
        "X_val"
      ],
      "metadata": {
        "colab": {
          "base_uri": "https://localhost:8080/"
        },
        "id": "KM5u5StxgZOO",
        "outputId": "6c4a6d5b-25df-42a8-80ff-0ca9f3dfe647"
      },
      "execution_count": null,
      "outputs": [
        {
          "output_type": "execute_result",
          "data": {
            "text/plain": [
              "array([[-3.87864716e+02,  1.28332352e+02, -2.76603222e+01, ...,\n",
              "         9.12875849e-03,  1.42779027e-02, -1.82496879e-03],\n",
              "       [-3.88258087e+02,  1.33968369e+02, -2.30281467e+01, ...,\n",
              "         9.04491773e-03,  7.67332526e-03,  3.48687574e-03],\n",
              "       [-3.64714478e+02,  1.45245056e+02, -4.19271088e+01, ...,\n",
              "        -3.85586769e-02,  3.16894874e-03, -2.92656827e-03],\n",
              "       ...,\n",
              "       [-2.78502960e+02,  1.35235077e+02, -2.13599396e+01, ...,\n",
              "         3.10760156e-02,  1.57266134e-03,  4.05455407e-04],\n",
              "       [-3.10141174e+02,  1.42646866e+02, -2.21377411e+01, ...,\n",
              "        -2.32570757e-02, -2.00056433e-03,  3.96258578e-04],\n",
              "       [-3.02977448e+02,  1.35470734e+02, -1.08759336e+01, ...,\n",
              "         8.34106507e-04, -1.96564580e-03,  6.26333572e-03]])"
            ]
          },
          "metadata": {},
          "execution_count": 77
        }
      ]
    },
    {
      "cell_type": "markdown",
      "source": [
        "# Получаем идентификаторы спикеров"
      ],
      "metadata": {
        "id": "J02ESbsMgqdJ"
      }
    },
    {
      "cell_type": "code",
      "source": [
        "y_train = np.array(train_df['speaker'])\n",
        "y_val = np.array(valid_df['speaker'])\n",
        "y_test = np.array(test_df['speaker'])"
      ],
      "metadata": {
        "id": "IKvuhYLBgakF"
      },
      "execution_count": null,
      "outputs": []
    },
    {
      "cell_type": "markdown",
      "source": [
        "## Применим LabelEncoder"
      ],
      "metadata": {
        "id": "YkFh3glDg_9b"
      }
    },
    {
      "cell_type": "code",
      "source": [
        "from sklearn.preprocessing import LabelEncoder\n",
        "from keras.utils.np_utils import to_categorical"
      ],
      "metadata": {
        "id": "4Lk8oOmEg5j1"
      },
      "execution_count": null,
      "outputs": []
    },
    {
      "cell_type": "code",
      "source": [
        "lb = LabelEncoder()\n",
        "y_train = to_categorical(lb.fit_transform(y_train))\n",
        "y_val = to_categorical(lb.fit_transform(y_val))"
      ],
      "metadata": {
        "id": "2yk_zIuchE9P"
      },
      "execution_count": null,
      "outputs": []
    },
    {
      "cell_type": "markdown",
      "source": [
        "# Масштабируем X-наборы"
      ],
      "metadata": {
        "id": "4Ysy1kjOhU1W"
      }
    },
    {
      "cell_type": "code",
      "source": [
        "from sklearn.preprocessing import StandardScaler"
      ],
      "metadata": {
        "id": "4IL9bBsfhMHF"
      },
      "execution_count": null,
      "outputs": []
    },
    {
      "cell_type": "code",
      "source": [
        "ss = StandardScaler()\n",
        "X_train = ss.fit_transform(X_train)\n",
        "X_val = ss.transform(X_val)\n",
        "X_test = ss.transform(X_test)"
      ],
      "metadata": {
        "id": "M729_kZwhcFU"
      },
      "execution_count": null,
      "outputs": []
    },
    {
      "cell_type": "markdown",
      "source": [
        "# Построение нейронной сети"
      ],
      "metadata": {
        "id": "NHXGy-5LhjoN"
      }
    },
    {
      "cell_type": "code",
      "source": [
        "from keras.models import Sequential\n",
        "from keras.layers import Dense, Dropout, Activation, Flatten\n",
        "from keras.callbacks import EarlyStopping"
      ],
      "metadata": {
        "id": "cVZ1Bud_hd9C"
      },
      "execution_count": null,
      "outputs": []
    },
    {
      "cell_type": "code",
      "source": [
        "model = Sequential()\n",
        "\n",
        "model.add(Dense(193, input_shape=(193,), activation = 'relu'))\n",
        "model.add(Dropout(0.1))\n",
        "\n",
        "model.add(Dense(128, activation = 'relu'))\n",
        "model.add(Dropout(0.25))  \n",
        "\n",
        "model.add(Dense(128, activation = 'relu'))\n",
        "model.add(Dropout(0.5))    \n",
        "\n",
        "model.add(Dense(30, activation = 'softmax'))\n",
        "\n",
        "model.compile(loss='categorical_crossentropy', metrics=['accuracy'], optimizer='adam')\n",
        "\n",
        "early_stop = EarlyStopping(monitor='val_loss', min_delta=0, patience=100, verbose=1, mode='auto')"
      ],
      "metadata": {
        "id": "Nz-U08jbhs9a"
      },
      "execution_count": null,
      "outputs": []
    },
    {
      "cell_type": "markdown",
      "source": [
        "## Подбираем модель с данными обучения и проверки"
      ],
      "metadata": {
        "id": "iH3hvwSIh1k5"
      }
    },
    {
      "cell_type": "code",
      "source": [
        "history = model.fit(X_train, y_train, batch_size=256, epochs=100, \n",
        "                    validation_data=(X_val, y_val),\n",
        "                    callbacks=[early_stop])"
      ],
      "metadata": {
        "colab": {
          "base_uri": "https://localhost:8080/"
        },
        "id": "rQQ-Qa1whvrI",
        "outputId": "9c5c6ef2-94b7-42a2-b81d-4534f67c2fd9"
      },
      "execution_count": null,
      "outputs": [
        {
          "output_type": "stream",
          "name": "stdout",
          "text": [
            "Epoch 1/100\n",
            "1/1 [==============================] - 1s 619ms/step - loss: 3.8515 - accuracy: 0.0333 - val_loss: 3.3965 - val_accuracy: 0.0333\n",
            "Epoch 2/100\n",
            "1/1 [==============================] - 0s 30ms/step - loss: 3.5695 - accuracy: 0.0417 - val_loss: 3.2873 - val_accuracy: 0.0667\n",
            "Epoch 3/100\n",
            "1/1 [==============================] - 0s 26ms/step - loss: 3.3519 - accuracy: 0.0417 - val_loss: 3.1986 - val_accuracy: 0.1556\n",
            "Epoch 4/100\n",
            "1/1 [==============================] - 0s 25ms/step - loss: 3.2480 - accuracy: 0.0833 - val_loss: 3.1214 - val_accuracy: 0.2333\n",
            "Epoch 5/100\n",
            "1/1 [==============================] - 0s 25ms/step - loss: 3.2312 - accuracy: 0.0583 - val_loss: 3.0514 - val_accuracy: 0.3000\n",
            "Epoch 6/100\n",
            "1/1 [==============================] - 0s 28ms/step - loss: 3.0543 - accuracy: 0.1333 - val_loss: 2.9848 - val_accuracy: 0.3667\n",
            "Epoch 7/100\n",
            "1/1 [==============================] - 0s 26ms/step - loss: 3.0206 - accuracy: 0.1583 - val_loss: 2.9194 - val_accuracy: 0.3889\n",
            "Epoch 8/100\n",
            "1/1 [==============================] - 0s 26ms/step - loss: 2.7772 - accuracy: 0.2333 - val_loss: 2.8526 - val_accuracy: 0.4222\n",
            "Epoch 9/100\n",
            "1/1 [==============================] - 0s 29ms/step - loss: 2.7561 - accuracy: 0.2333 - val_loss: 2.7861 - val_accuracy: 0.4444\n",
            "Epoch 10/100\n",
            "1/1 [==============================] - 0s 28ms/step - loss: 2.6309 - accuracy: 0.2750 - val_loss: 2.7170 - val_accuracy: 0.4667\n",
            "Epoch 11/100\n",
            "1/1 [==============================] - 0s 27ms/step - loss: 2.5966 - accuracy: 0.3083 - val_loss: 2.6478 - val_accuracy: 0.4667\n",
            "Epoch 12/100\n",
            "1/1 [==============================] - 0s 27ms/step - loss: 2.5412 - accuracy: 0.3417 - val_loss: 2.5780 - val_accuracy: 0.5000\n",
            "Epoch 13/100\n",
            "1/1 [==============================] - 0s 26ms/step - loss: 2.5184 - accuracy: 0.3000 - val_loss: 2.5094 - val_accuracy: 0.5556\n",
            "Epoch 14/100\n",
            "1/1 [==============================] - 0s 26ms/step - loss: 2.3851 - accuracy: 0.3833 - val_loss: 2.4393 - val_accuracy: 0.5889\n",
            "Epoch 15/100\n",
            "1/1 [==============================] - 0s 26ms/step - loss: 2.2553 - accuracy: 0.4167 - val_loss: 2.3695 - val_accuracy: 0.6000\n",
            "Epoch 16/100\n",
            "1/1 [==============================] - 0s 26ms/step - loss: 2.1130 - accuracy: 0.5583 - val_loss: 2.2989 - val_accuracy: 0.6333\n",
            "Epoch 17/100\n",
            "1/1 [==============================] - 0s 28ms/step - loss: 2.1199 - accuracy: 0.4583 - val_loss: 2.2280 - val_accuracy: 0.6556\n",
            "Epoch 18/100\n",
            "1/1 [==============================] - 0s 26ms/step - loss: 1.9594 - accuracy: 0.5917 - val_loss: 2.1546 - val_accuracy: 0.6667\n",
            "Epoch 19/100\n",
            "1/1 [==============================] - 0s 30ms/step - loss: 1.9187 - accuracy: 0.5417 - val_loss: 2.0813 - val_accuracy: 0.7000\n",
            "Epoch 20/100\n",
            "1/1 [==============================] - 0s 28ms/step - loss: 1.8230 - accuracy: 0.5917 - val_loss: 2.0070 - val_accuracy: 0.7111\n",
            "Epoch 21/100\n",
            "1/1 [==============================] - 0s 33ms/step - loss: 1.7857 - accuracy: 0.5417 - val_loss: 1.9344 - val_accuracy: 0.7222\n",
            "Epoch 22/100\n",
            "1/1 [==============================] - 0s 25ms/step - loss: 1.7590 - accuracy: 0.5417 - val_loss: 1.8631 - val_accuracy: 0.7222\n",
            "Epoch 23/100\n",
            "1/1 [==============================] - 0s 32ms/step - loss: 1.6498 - accuracy: 0.5750 - val_loss: 1.7935 - val_accuracy: 0.7222\n",
            "Epoch 24/100\n",
            "1/1 [==============================] - 0s 26ms/step - loss: 1.6250 - accuracy: 0.5750 - val_loss: 1.7244 - val_accuracy: 0.7222\n",
            "Epoch 25/100\n",
            "1/1 [==============================] - 0s 27ms/step - loss: 1.5751 - accuracy: 0.6417 - val_loss: 1.6556 - val_accuracy: 0.7444\n",
            "Epoch 26/100\n",
            "1/1 [==============================] - 0s 26ms/step - loss: 1.4585 - accuracy: 0.6500 - val_loss: 1.5902 - val_accuracy: 0.7444\n",
            "Epoch 27/100\n",
            "1/1 [==============================] - 0s 26ms/step - loss: 1.3465 - accuracy: 0.6750 - val_loss: 1.5258 - val_accuracy: 0.7667\n",
            "Epoch 28/100\n",
            "1/1 [==============================] - 0s 28ms/step - loss: 1.2206 - accuracy: 0.6917 - val_loss: 1.4625 - val_accuracy: 0.7889\n",
            "Epoch 29/100\n",
            "1/1 [==============================] - 0s 28ms/step - loss: 1.1655 - accuracy: 0.7000 - val_loss: 1.4015 - val_accuracy: 0.8000\n",
            "Epoch 30/100\n",
            "1/1 [==============================] - 0s 26ms/step - loss: 1.0743 - accuracy: 0.7917 - val_loss: 1.3413 - val_accuracy: 0.8111\n",
            "Epoch 31/100\n",
            "1/1 [==============================] - 0s 33ms/step - loss: 1.0837 - accuracy: 0.7333 - val_loss: 1.2820 - val_accuracy: 0.8444\n",
            "Epoch 32/100\n",
            "1/1 [==============================] - 0s 28ms/step - loss: 0.9941 - accuracy: 0.7833 - val_loss: 1.2257 - val_accuracy: 0.8556\n",
            "Epoch 33/100\n",
            "1/1 [==============================] - 0s 28ms/step - loss: 0.9320 - accuracy: 0.7750 - val_loss: 1.1727 - val_accuracy: 0.8556\n",
            "Epoch 34/100\n",
            "1/1 [==============================] - 0s 27ms/step - loss: 0.8743 - accuracy: 0.8000 - val_loss: 1.1243 - val_accuracy: 0.8444\n",
            "Epoch 35/100\n",
            "1/1 [==============================] - 0s 26ms/step - loss: 0.8891 - accuracy: 0.7917 - val_loss: 1.0804 - val_accuracy: 0.8556\n",
            "Epoch 36/100\n",
            "1/1 [==============================] - 0s 28ms/step - loss: 0.7953 - accuracy: 0.8083 - val_loss: 1.0399 - val_accuracy: 0.8667\n",
            "Epoch 37/100\n",
            "1/1 [==============================] - 0s 28ms/step - loss: 0.8535 - accuracy: 0.7833 - val_loss: 1.0035 - val_accuracy: 0.8667\n",
            "Epoch 38/100\n",
            "1/1 [==============================] - 0s 27ms/step - loss: 0.7340 - accuracy: 0.8333 - val_loss: 0.9715 - val_accuracy: 0.8667\n",
            "Epoch 39/100\n",
            "1/1 [==============================] - 0s 32ms/step - loss: 0.6334 - accuracy: 0.8667 - val_loss: 0.9426 - val_accuracy: 0.8556\n",
            "Epoch 40/100\n",
            "1/1 [==============================] - 0s 25ms/step - loss: 0.6751 - accuracy: 0.8583 - val_loss: 0.9180 - val_accuracy: 0.8667\n",
            "Epoch 41/100\n",
            "1/1 [==============================] - 0s 26ms/step - loss: 0.7071 - accuracy: 0.8250 - val_loss: 0.8987 - val_accuracy: 0.8778\n",
            "Epoch 42/100\n",
            "1/1 [==============================] - 0s 27ms/step - loss: 0.6046 - accuracy: 0.8417 - val_loss: 0.8835 - val_accuracy: 0.8778\n",
            "Epoch 43/100\n",
            "1/1 [==============================] - 0s 26ms/step - loss: 0.6385 - accuracy: 0.8250 - val_loss: 0.8712 - val_accuracy: 0.8778\n",
            "Epoch 44/100\n",
            "1/1 [==============================] - 0s 27ms/step - loss: 0.5150 - accuracy: 0.8583 - val_loss: 0.8627 - val_accuracy: 0.8778\n",
            "Epoch 45/100\n",
            "1/1 [==============================] - 0s 26ms/step - loss: 0.4235 - accuracy: 0.9250 - val_loss: 0.8585 - val_accuracy: 0.8667\n",
            "Epoch 46/100\n",
            "1/1 [==============================] - 0s 27ms/step - loss: 0.4773 - accuracy: 0.8833 - val_loss: 0.8548 - val_accuracy: 0.8667\n",
            "Epoch 47/100\n",
            "1/1 [==============================] - 0s 32ms/step - loss: 0.4108 - accuracy: 0.9083 - val_loss: 0.8506 - val_accuracy: 0.8667\n",
            "Epoch 48/100\n",
            "1/1 [==============================] - 0s 26ms/step - loss: 0.3831 - accuracy: 0.9083 - val_loss: 0.8460 - val_accuracy: 0.8667\n",
            "Epoch 49/100\n",
            "1/1 [==============================] - 0s 31ms/step - loss: 0.4700 - accuracy: 0.9000 - val_loss: 0.8408 - val_accuracy: 0.8667\n",
            "Epoch 50/100\n",
            "1/1 [==============================] - 0s 25ms/step - loss: 0.3470 - accuracy: 0.9250 - val_loss: 0.8350 - val_accuracy: 0.8778\n",
            "Epoch 51/100\n",
            "1/1 [==============================] - 0s 29ms/step - loss: 0.4427 - accuracy: 0.8750 - val_loss: 0.8293 - val_accuracy: 0.8778\n",
            "Epoch 52/100\n",
            "1/1 [==============================] - 0s 27ms/step - loss: 0.3190 - accuracy: 0.9333 - val_loss: 0.8263 - val_accuracy: 0.8778\n",
            "Epoch 53/100\n",
            "1/1 [==============================] - 0s 28ms/step - loss: 0.2874 - accuracy: 0.9583 - val_loss: 0.8254 - val_accuracy: 0.8778\n",
            "Epoch 54/100\n",
            "1/1 [==============================] - 0s 28ms/step - loss: 0.2165 - accuracy: 0.9750 - val_loss: 0.8256 - val_accuracy: 0.8778\n",
            "Epoch 55/100\n",
            "1/1 [==============================] - 0s 31ms/step - loss: 0.2910 - accuracy: 0.9417 - val_loss: 0.8267 - val_accuracy: 0.8778\n",
            "Epoch 56/100\n",
            "1/1 [==============================] - 0s 28ms/step - loss: 0.3472 - accuracy: 0.9083 - val_loss: 0.8288 - val_accuracy: 0.8778\n",
            "Epoch 57/100\n",
            "1/1 [==============================] - 0s 28ms/step - loss: 0.2469 - accuracy: 0.9417 - val_loss: 0.8284 - val_accuracy: 0.8778\n",
            "Epoch 58/100\n",
            "1/1 [==============================] - 0s 31ms/step - loss: 0.3229 - accuracy: 0.9083 - val_loss: 0.8286 - val_accuracy: 0.8778\n",
            "Epoch 59/100\n",
            "1/1 [==============================] - 0s 30ms/step - loss: 0.2851 - accuracy: 0.9500 - val_loss: 0.8289 - val_accuracy: 0.8778\n",
            "Epoch 60/100\n",
            "1/1 [==============================] - 0s 27ms/step - loss: 0.2400 - accuracy: 0.9250 - val_loss: 0.8314 - val_accuracy: 0.8778\n",
            "Epoch 61/100\n",
            "1/1 [==============================] - 0s 25ms/step - loss: 0.2008 - accuracy: 0.9750 - val_loss: 0.8347 - val_accuracy: 0.8889\n",
            "Epoch 62/100\n",
            "1/1 [==============================] - 0s 29ms/step - loss: 0.2632 - accuracy: 0.9250 - val_loss: 0.8374 - val_accuracy: 0.8889\n",
            "Epoch 63/100\n",
            "1/1 [==============================] - 0s 29ms/step - loss: 0.1887 - accuracy: 0.9583 - val_loss: 0.8396 - val_accuracy: 0.8889\n",
            "Epoch 64/100\n",
            "1/1 [==============================] - 0s 28ms/step - loss: 0.2046 - accuracy: 0.9417 - val_loss: 0.8430 - val_accuracy: 0.8889\n",
            "Epoch 65/100\n",
            "1/1 [==============================] - 0s 27ms/step - loss: 0.2135 - accuracy: 0.9500 - val_loss: 0.8459 - val_accuracy: 0.8889\n",
            "Epoch 66/100\n",
            "1/1 [==============================] - 0s 32ms/step - loss: 0.1789 - accuracy: 0.9583 - val_loss: 0.8477 - val_accuracy: 0.8778\n",
            "Epoch 67/100\n",
            "1/1 [==============================] - 0s 26ms/step - loss: 0.2017 - accuracy: 0.9667 - val_loss: 0.8490 - val_accuracy: 0.8778\n",
            "Epoch 68/100\n",
            "1/1 [==============================] - 0s 29ms/step - loss: 0.1873 - accuracy: 0.9583 - val_loss: 0.8503 - val_accuracy: 0.8778\n",
            "Epoch 69/100\n",
            "1/1 [==============================] - 0s 29ms/step - loss: 0.2019 - accuracy: 0.9500 - val_loss: 0.8510 - val_accuracy: 0.8778\n",
            "Epoch 70/100\n",
            "1/1 [==============================] - 0s 33ms/step - loss: 0.1432 - accuracy: 0.9667 - val_loss: 0.8526 - val_accuracy: 0.8889\n",
            "Epoch 71/100\n",
            "1/1 [==============================] - 0s 27ms/step - loss: 0.1899 - accuracy: 0.9583 - val_loss: 0.8550 - val_accuracy: 0.8889\n",
            "Epoch 72/100\n",
            "1/1 [==============================] - 0s 26ms/step - loss: 0.1872 - accuracy: 0.9750 - val_loss: 0.8558 - val_accuracy: 0.8889\n",
            "Epoch 73/100\n",
            "1/1 [==============================] - 0s 36ms/step - loss: 0.1162 - accuracy: 0.9917 - val_loss: 0.8563 - val_accuracy: 0.8889\n",
            "Epoch 74/100\n",
            "1/1 [==============================] - 0s 28ms/step - loss: 0.1384 - accuracy: 0.9833 - val_loss: 0.8595 - val_accuracy: 0.8889\n",
            "Epoch 75/100\n",
            "1/1 [==============================] - 0s 26ms/step - loss: 0.1404 - accuracy: 0.9750 - val_loss: 0.8629 - val_accuracy: 0.8889\n",
            "Epoch 76/100\n",
            "1/1 [==============================] - 0s 30ms/step - loss: 0.1325 - accuracy: 0.9667 - val_loss: 0.8651 - val_accuracy: 0.8889\n",
            "Epoch 77/100\n",
            "1/1 [==============================] - 0s 28ms/step - loss: 0.1039 - accuracy: 0.9750 - val_loss: 0.8668 - val_accuracy: 0.8889\n",
            "Epoch 78/100\n",
            "1/1 [==============================] - 0s 28ms/step - loss: 0.1320 - accuracy: 0.9750 - val_loss: 0.8680 - val_accuracy: 0.8889\n",
            "Epoch 79/100\n",
            "1/1 [==============================] - 0s 28ms/step - loss: 0.1146 - accuracy: 0.9917 - val_loss: 0.8683 - val_accuracy: 0.8889\n",
            "Epoch 80/100\n",
            "1/1 [==============================] - 0s 26ms/step - loss: 0.0990 - accuracy: 0.9667 - val_loss: 0.8676 - val_accuracy: 0.8889\n",
            "Epoch 81/100\n",
            "1/1 [==============================] - 0s 29ms/step - loss: 0.1462 - accuracy: 0.9667 - val_loss: 0.8666 - val_accuracy: 0.8889\n",
            "Epoch 82/100\n",
            "1/1 [==============================] - 0s 27ms/step - loss: 0.1035 - accuracy: 0.9917 - val_loss: 0.8673 - val_accuracy: 0.8889\n",
            "Epoch 83/100\n",
            "1/1 [==============================] - 0s 30ms/step - loss: 0.0697 - accuracy: 1.0000 - val_loss: 0.8693 - val_accuracy: 0.8889\n",
            "Epoch 84/100\n",
            "1/1 [==============================] - 0s 29ms/step - loss: 0.0987 - accuracy: 0.9917 - val_loss: 0.8729 - val_accuracy: 0.8889\n",
            "Epoch 85/100\n",
            "1/1 [==============================] - 0s 32ms/step - loss: 0.0790 - accuracy: 1.0000 - val_loss: 0.8770 - val_accuracy: 0.8889\n",
            "Epoch 86/100\n",
            "1/1 [==============================] - 0s 32ms/step - loss: 0.0690 - accuracy: 1.0000 - val_loss: 0.8823 - val_accuracy: 0.8889\n",
            "Epoch 87/100\n",
            "1/1 [==============================] - 0s 29ms/step - loss: 0.1042 - accuracy: 0.9833 - val_loss: 0.8862 - val_accuracy: 0.8889\n",
            "Epoch 88/100\n",
            "1/1 [==============================] - 0s 31ms/step - loss: 0.0913 - accuracy: 0.9917 - val_loss: 0.8894 - val_accuracy: 0.8889\n",
            "Epoch 89/100\n",
            "1/1 [==============================] - 0s 29ms/step - loss: 0.0756 - accuracy: 0.9750 - val_loss: 0.8948 - val_accuracy: 0.8889\n",
            "Epoch 90/100\n",
            "1/1 [==============================] - 0s 28ms/step - loss: 0.1184 - accuracy: 0.9667 - val_loss: 0.8992 - val_accuracy: 0.8889\n",
            "Epoch 91/100\n",
            "1/1 [==============================] - 0s 26ms/step - loss: 0.1013 - accuracy: 0.9750 - val_loss: 0.9017 - val_accuracy: 0.8889\n",
            "Epoch 92/100\n",
            "1/1 [==============================] - 0s 26ms/step - loss: 0.1015 - accuracy: 0.9750 - val_loss: 0.9037 - val_accuracy: 0.8889\n",
            "Epoch 93/100\n",
            "1/1 [==============================] - 0s 29ms/step - loss: 0.1461 - accuracy: 0.9583 - val_loss: 0.9037 - val_accuracy: 0.8889\n",
            "Epoch 94/100\n",
            "1/1 [==============================] - 0s 47ms/step - loss: 0.0622 - accuracy: 0.9917 - val_loss: 0.9039 - val_accuracy: 0.8889\n",
            "Epoch 95/100\n",
            "1/1 [==============================] - 0s 30ms/step - loss: 0.0931 - accuracy: 0.9750 - val_loss: 0.9057 - val_accuracy: 0.8889\n",
            "Epoch 96/100\n",
            "1/1 [==============================] - 0s 27ms/step - loss: 0.0735 - accuracy: 0.9833 - val_loss: 0.9072 - val_accuracy: 0.8889\n",
            "Epoch 97/100\n",
            "1/1 [==============================] - 0s 30ms/step - loss: 0.0860 - accuracy: 0.9833 - val_loss: 0.9076 - val_accuracy: 0.8889\n",
            "Epoch 98/100\n",
            "1/1 [==============================] - 0s 35ms/step - loss: 0.0628 - accuracy: 0.9917 - val_loss: 0.9056 - val_accuracy: 0.8889\n",
            "Epoch 99/100\n",
            "1/1 [==============================] - 0s 29ms/step - loss: 0.0806 - accuracy: 0.9750 - val_loss: 0.9104 - val_accuracy: 0.8889\n",
            "Epoch 100/100\n",
            "1/1 [==============================] - 0s 26ms/step - loss: 0.0364 - accuracy: 1.0000 - val_loss: 0.9134 - val_accuracy: 0.8889\n"
          ]
        }
      ]
    },
    {
      "cell_type": "code",
      "source": [
        "# Check out our train accuracy and validation accuracy over epochs.\n",
        "train_accuracy = history.history['accuracy']\n",
        "val_accuracy = history.history['val_accuracy']\n",
        "\n",
        "# Set figure size.\n",
        "plt.figure(figsize=(12, 8))\n",
        "\n",
        "# Generate line plot of training, testing loss over epochs.\n",
        "plt.plot(train_accuracy, label='Training Accuracy', color='#185fad')\n",
        "plt.plot(val_accuracy, label='Validation Accuracy', color='orange')\n",
        "\n",
        "# Set title\n",
        "plt.title('Training and Validation Accuracy by Epoch', fontsize = 25)\n",
        "plt.xlabel('Epoch', fontsize = 18)\n",
        "plt.ylabel('Categorical Crossentropy', fontsize = 18)\n",
        "plt.xticks(range(0,100,5), range(0,100,5))\n",
        "\n",
        "plt.legend(fontsize = 18);"
      ],
      "metadata": {
        "colab": {
          "base_uri": "https://localhost:8080/",
          "height": 530
        },
        "id": "U-SsoKuqh9bA",
        "outputId": "f10b5a59-6121-44ac-8241-a9f473acd94b"
      },
      "execution_count": null,
      "outputs": [
        {
          "output_type": "display_data",
          "data": {
            "text/plain": [
              "<Figure size 864x576 with 1 Axes>"
            ],
            "image/png": "[encoded data removed]"
          },
          "metadata": {
            "needs_background": "light"
          }
        }
      ]
    },
    {
      "cell_type": "code",
      "source": [
        "# We get our predictions from the test data\n",
        "predictions=model.predict(X_test) \n",
        "predictions_classes=np.argmax(predictions,axis=1)\n",
        "# We transform back our predictions to the speakers ids\n",
        "predictions_classes = lb.inverse_transform(predictions_classes)\n",
        "# Finally, we can add those predictions to our original dataframe\n",
        "test_df['predictions'] = predictions_classes"
      ],
      "metadata": {
        "id": "ogednSfyi5Cs"
      },
      "execution_count": null,
      "outputs": []
    },
    {
      "cell_type": "code",
      "source": [
        "# Code to see which values we got wrong\n",
        "test_df[test_df['speaker'] != test_df['predictions']]"
      ],
      "metadata": {
        "colab": {
          "base_uri": "https://localhost:8080/",
          "height": 175
        },
        "id": "K0QTmpLxjulP",
        "outputId": "613249e4-4566-450a-f729-ca69015a9456"
      },
      "execution_count": null,
      "outputs": [
        {
          "output_type": "execute_result",
          "data": {
            "text/plain": [
              "                     file speaker predictions\n",
              "57   121-127105-0024.flac     121        1898\n",
              "64   237-126133-0000.flac     237        1580\n",
              "75   121-127105-0023.flac     121        1898\n",
              "81  8555-292519-0005.flac    8555        3570"
            ],
            "text/html": [
              "\n",
              "  <div id=\"df-3c0058ae-9a4b-4a2a-9916-75bde1e11c6b\">\n",
              "    <div class=\"colab-df-container\">\n",
              "      <div>\n",
              "<style scoped>\n",
              "    .dataframe tbody tr th:only-of-type {\n",
              "        vertical-align: middle;\n",
              "    }\n",
              "\n",
              "    .dataframe tbody tr th {\n",
              "        vertical-align: top;\n",
              "    }\n",
              "\n",
              "    .dataframe thead th {\n",
              "        text-align: right;\n",
              "    }\n",
              "</style>\n",
              "<table border=\"1\" class=\"dataframe\">\n",
              "  <thead>\n",
              "    <tr style=\"text-align: right;\">\n",
              "      <th></th>\n",
              "      <th>file</th>\n",
              "      <th>speaker</th>\n",
              "      <th>predictions</th>\n",
              "    </tr>\n",
              "  </thead>\n",
              "  <tbody>\n",
              "    <tr>\n",
              "      <th>57</th>\n",
              "      <td>121-127105-0024.flac</td>\n",
              "      <td>121</td>\n",
              "      <td>1898</td>\n",
              "    </tr>\n",
              "    <tr>\n",
              "      <th>64</th>\n",
              "      <td>237-126133-0000.flac</td>\n",
              "      <td>237</td>\n",
              "      <td>1580</td>\n",
              "    </tr>\n",
              "    <tr>\n",
              "      <th>75</th>\n",
              "      <td>121-127105-0023.flac</td>\n",
              "      <td>121</td>\n",
              "      <td>1898</td>\n",
              "    </tr>\n",
              "    <tr>\n",
              "      <th>81</th>\n",
              "      <td>8555-292519-0005.flac</td>\n",
              "      <td>8555</td>\n",
              "      <td>3570</td>\n",
              "    </tr>\n",
              "  </tbody>\n",
              "</table>\n",
              "</div>\n",
              "      <button class=\"colab-df-convert\" onclick=\"convertToInteractive('df-3c0058ae-9a4b-4a2a-9916-75bde1e11c6b')\"\n",
              "              title=\"Convert this dataframe to an interactive table.\"\n",
              "              style=\"display:none;\">\n",
              "        \n",
              "  <svg xmlns=\"http://www.w3.org/2000/svg\" height=\"24px\"viewBox=\"0 0 24 24\"\n",
              "       width=\"24px\">\n",
              "    <path d=\"M0 0h24v24H0V0z\" fill=\"none\"/>\n",
              "    <path d=\"M18.56 5.44l.94 2.06.94-2.06 2.06-.94-2.06-.94-.94-2.06-.94 2.06-2.06.94zm-11 1L8.5 8.5l.94-2.06 2.06-.94-2.06-.94L8.5 2.5l-.94 2.06-2.06.94zm10 10l.94 2.06.94-2.06 2.06-.94-2.06-.94-.94-2.06-.94 2.06-2.06.94z\"/><path d=\"M17.41 7.96l-1.37-1.37c-.4-.4-.92-.59-1.43-.59-.52 0-1.04.2-1.43.59L10.3 9.45l-7.72 7.72c-.78.78-.78 2.05 0 2.83L4 21.41c.39.39.9.59 1.41.59.51 0 1.02-.2 1.41-.59l7.78-7.78 2.81-2.81c.8-.78.8-2.07 0-2.86zM5.41 20L4 18.59l7.72-7.72 1.47 1.35L5.41 20z\"/>\n",
              "  </svg>\n",
              "      </button>\n",
              "      \n",
              "  <style>\n",
              "    .colab-df-container {\n",
              "      display:flex;\n",
              "      flex-wrap:wrap;\n",
              "      gap: 12px;\n",
              "    }\n",
              "\n",
              "    .colab-df-convert {\n",
              "      background-color: #E8F0FE;\n",
              "      border: none;\n",
              "      border-radius: 50%;\n",
              "      cursor: pointer;\n",
              "      display: none;\n",
              "      fill: #1967D2;\n",
              "      height: 32px;\n",
              "      padding: 0 0 0 0;\n",
              "      width: 32px;\n",
              "    }\n",
              "\n",
              "    .colab-df-convert:hover {\n",
              "      background-color: #E2EBFA;\n",
              "      box-shadow: 0px 1px 2px rgba(60, 64, 67, 0.3), 0px 1px 3px 1px rgba(60, 64, 67, 0.15);\n",
              "      fill: #174EA6;\n",
              "    }\n",
              "\n",
              "    [theme=dark] .colab-df-convert {\n",
              "      background-color: #3B4455;\n",
              "      fill: #D2E3FC;\n",
              "    }\n",
              "\n",
              "    [theme=dark] .colab-df-convert:hover {\n",
              "      background-color: #434B5C;\n",
              "      box-shadow: 0px 1px 3px 1px rgba(0, 0, 0, 0.15);\n",
              "      filter: drop-shadow(0px 1px 2px rgba(0, 0, 0, 0.3));\n",
              "      fill: #FFFFFF;\n",
              "    }\n",
              "  </style>\n",
              "\n",
              "      <script>\n",
              "        const buttonEl =\n",
              "          document.querySelector('#df-3c0058ae-9a4b-4a2a-9916-75bde1e11c6b button.colab-df-convert');\n",
              "        buttonEl.style.display =\n",
              "          google.colab.kernel.accessAllowed ? 'block' : 'none';\n",
              "\n",
              "        async function convertToInteractive(key) {\n",
              "          const element = document.querySelector('#df-3c0058ae-9a4b-4a2a-9916-75bde1e11c6b');\n",
              "          const dataTable =\n",
              "            await google.colab.kernel.invokeFunction('convertToInteractive',\n",
              "                                                     [key], {});\n",
              "          if (!dataTable) return;\n",
              "\n",
              "          const docLinkHtml = 'Like what you see? Visit the ' +\n",
              "            '<a target=\"_blank\" href=https://colab.research.google.com/notebooks/data_table.ipynb>data table notebook</a>'\n",
              "            + ' to learn more about interactive tables.';\n",
              "          element.innerHTML = '';\n",
              "          dataTable['output_type'] = 'display_data';\n",
              "          await google.colab.output.renderOutput(dataTable, element);\n",
              "          const docLink = document.createElement('div');\n",
              "          docLink.innerHTML = docLinkHtml;\n",
              "          element.appendChild(docLink);\n",
              "        }\n",
              "      </script>\n",
              "    </div>\n",
              "  </div>\n",
              "  "
            ]
          },
          "metadata": {},
          "execution_count": 100
        }
      ]
    },
    {
      "cell_type": "code",
      "source": [
        "# Code to see the numerical accuracy\n",
        "(1-round(len(test_df[test_df['speaker'] != test_df['predictions']])/len(test_df),3))*100"
      ],
      "metadata": {
        "colab": {
          "base_uri": "https://localhost:8080/"
        },
        "id": "uO2ZxWoxizZC",
        "outputId": "57bdf4c1-0a2a-4d22-820a-46e202596c49"
      },
      "execution_count": null,
      "outputs": [
        {
          "output_type": "execute_result",
          "data": {
            "text/plain": [
              "95.6"
            ]
          },
          "metadata": {},
          "execution_count": 99
        }
      ]
    }
  ]
}